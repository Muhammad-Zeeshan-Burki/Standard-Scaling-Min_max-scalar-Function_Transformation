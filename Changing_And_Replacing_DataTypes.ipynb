{
 "cells": [
  {
   "cell_type": "code",
   "execution_count": 4,
   "id": "55a192e0-ba8c-4aad-8483-88370b2399aa",
   "metadata": {},
   "outputs": [],
   "source": [
    "import pandas as pd \n"
   ]
  },
  {
   "cell_type": "code",
   "execution_count": 8,
   "id": "cb6c8e39-a099-4ae1-8066-bc9479fbc696",
   "metadata": {},
   "outputs": [
    {
     "data": {
      "text/html": [
       "<div>\n",
       "<style scoped>\n",
       "    .dataframe tbody tr th:only-of-type {\n",
       "        vertical-align: middle;\n",
       "    }\n",
       "\n",
       "    .dataframe tbody tr th {\n",
       "        vertical-align: top;\n",
       "    }\n",
       "\n",
       "    .dataframe thead th {\n",
       "        text-align: right;\n",
       "    }\n",
       "</style>\n",
       "<table border=\"1\" class=\"dataframe\">\n",
       "  <thead>\n",
       "    <tr style=\"text-align: right;\">\n",
       "      <th></th>\n",
       "      <th>Row</th>\n",
       "      <th>Day</th>\n",
       "      <th>Day.Of.Week</th>\n",
       "      <th>Date</th>\n",
       "      <th>Page.Loads</th>\n",
       "      <th>Unique.Visits</th>\n",
       "      <th>First.Time.Visits</th>\n",
       "      <th>Returning.Visits</th>\n",
       "    </tr>\n",
       "  </thead>\n",
       "  <tbody>\n",
       "    <tr>\n",
       "      <th>0</th>\n",
       "      <td>1</td>\n",
       "      <td>Sunday</td>\n",
       "      <td>1</td>\n",
       "      <td>2014-09-14</td>\n",
       "      <td>2146</td>\n",
       "      <td>1582</td>\n",
       "      <td>1430</td>\n",
       "      <td>152</td>\n",
       "    </tr>\n",
       "    <tr>\n",
       "      <th>1</th>\n",
       "      <td>2</td>\n",
       "      <td>Monday</td>\n",
       "      <td>2</td>\n",
       "      <td>2014-09-15</td>\n",
       "      <td>3621</td>\n",
       "      <td>2528</td>\n",
       "      <td>2297</td>\n",
       "      <td>231</td>\n",
       "    </tr>\n",
       "    <tr>\n",
       "      <th>2</th>\n",
       "      <td>3</td>\n",
       "      <td>Tuesday</td>\n",
       "      <td>3</td>\n",
       "      <td>2014-09-16</td>\n",
       "      <td>3698</td>\n",
       "      <td>2630</td>\n",
       "      <td>2352</td>\n",
       "      <td>278</td>\n",
       "    </tr>\n",
       "  </tbody>\n",
       "</table>\n",
       "</div>"
      ],
      "text/plain": [
       "   Row      Day  Day.Of.Week       Date  Page.Loads  Unique.Visits  \\\n",
       "0    1   Sunday            1 2014-09-14        2146           1582   \n",
       "1    2   Monday            2 2014-09-15        3621           2528   \n",
       "2    3  Tuesday            3 2014-09-16        3698           2630   \n",
       "\n",
       "   First.Time.Visits  Returning.Visits  \n",
       "0               1430               152  \n",
       "1               2297               231  \n",
       "2               2352               278  "
      ]
     },
     "execution_count": 8,
     "metadata": {},
     "output_type": "execute_result"
    }
   ],
   "source": [
    "dataset = pd.read_excel(\"For encoding prac.xlsx\")\n",
    "dataset.head(3)"
   ]
  },
  {
   "cell_type": "code",
   "execution_count": 10,
   "id": "46853138-ed13-4f2e-8ad1-d664de122aef",
   "metadata": {},
   "outputs": [
    {
     "name": "stdout",
     "output_type": "stream",
     "text": [
      "<class 'pandas.core.frame.DataFrame'>\n",
      "RangeIndex: 2167 entries, 0 to 2166\n",
      "Data columns (total 8 columns):\n",
      " #   Column             Non-Null Count  Dtype         \n",
      "---  ------             --------------  -----         \n",
      " 0   Row                2167 non-null   int64         \n",
      " 1   Day                2167 non-null   object        \n",
      " 2   Day.Of.Week        2167 non-null   int64         \n",
      " 3   Date               2167 non-null   datetime64[ns]\n",
      " 4   Page.Loads         2167 non-null   int64         \n",
      " 5   Unique.Visits      2167 non-null   int64         \n",
      " 6   First.Time.Visits  2167 non-null   int64         \n",
      " 7   Returning.Visits   2167 non-null   int64         \n",
      "dtypes: datetime64[ns](1), int64(6), object(1)\n",
      "memory usage: 135.6+ KB\n"
     ]
    }
   ],
   "source": [
    "dataset.info()"
   ]
  },
  {
   "cell_type": "code",
   "execution_count": 12,
   "id": "83ebfe80-b792-4ce6-85fd-72ea9a610eaf",
   "metadata": {},
   "outputs": [
    {
     "data": {
      "text/plain": [
       "Row                  0\n",
       "Day                  0\n",
       "Day.Of.Week          0\n",
       "Date                 0\n",
       "Page.Loads           0\n",
       "Unique.Visits        0\n",
       "First.Time.Visits    0\n",
       "Returning.Visits     0\n",
       "dtype: int64"
      ]
     },
     "execution_count": 12,
     "metadata": {},
     "output_type": "execute_result"
    }
   ],
   "source": [
    "dataset.isnull().sum()"
   ]
  },
  {
   "cell_type": "code",
   "execution_count": 22,
   "id": "da13699c-1783-4524-921f-289ad1dbe9e0",
   "metadata": {},
   "outputs": [
    {
     "data": {
      "text/plain": [
       "Unique.Visits\n",
       "2781    5\n",
       "3039    5\n",
       "1197    5\n",
       "2667    5\n",
       "2844    4\n",
       "       ..\n",
       "4917    1\n",
       "2269    1\n",
       "3505    1\n",
       "4422    1\n",
       "1564    1\n",
       "Name: count, Length: 1658, dtype: int64"
      ]
     },
     "execution_count": 22,
     "metadata": {},
     "output_type": "execute_result"
    }
   ],
   "source": [
    "dataset[\"Unique.Visits\"].value_counts()"
   ]
  },
  {
   "cell_type": "code",
   "execution_count": 16,
   "id": "72c8ce11-24e2-468d-bb2d-27596561c92c",
   "metadata": {},
   "outputs": [
    {
     "data": {
      "text/plain": [
       "0       1582\n",
       "1       2528\n",
       "2       2630\n",
       "3       2614\n",
       "4       2366\n",
       "        ... \n",
       "2162    1696\n",
       "2163    2037\n",
       "2164    2638\n",
       "2165    2683\n",
       "2166    1564\n",
       "Name: Unique.Visits, Length: 2167, dtype: int64"
      ]
     },
     "execution_count": 16,
     "metadata": {},
     "output_type": "execute_result"
    }
   ],
   "source": [
    "dataset[\"Unique.Visits\"].fillna(dataset[\"Unique.Visits\"].mode()[0])"
   ]
  },
  {
   "cell_type": "code",
   "execution_count": 18,
   "id": "923273b9-2859-4e60-8a10-bdb54751fb7a",
   "metadata": {},
   "outputs": [
    {
     "name": "stderr",
     "output_type": "stream",
     "text": [
      "C:\\Users\\Dell\\AppData\\Local\\Temp\\ipykernel_9524\\223106485.py:1: FutureWarning: A value is trying to be set on a copy of a DataFrame or Series through chained assignment using an inplace method.\n",
      "The behavior will change in pandas 3.0. This inplace method will never work because the intermediate object on which we are setting values always behaves as a copy.\n",
      "\n",
      "For example, when doing 'df[col].method(value, inplace=True)', try using 'df.method({col: value}, inplace=True)' or df[col] = df[col].method(value) instead, to perform the operation inplace on the original object.\n",
      "\n",
      "\n",
      "  dataset[\"Unique.Visits\"].replace(2780,2781,inplace=True)\n"
     ]
    }
   ],
   "source": [
    "dataset[\"Unique.Visits\"].replace(2780,2781,inplace=True)"
   ]
  },
  {
   "cell_type": "code",
   "execution_count": 20,
   "id": "0296c5e7-6390-4e51-9fee-8aff2393fb54",
   "metadata": {},
   "outputs": [],
   "source": [
    "dataset[\"Unique.Visits\"] = dataset[\"Unique.Visits\"].replace(2780, 2781)\n"
   ]
  },
  {
   "cell_type": "code",
   "execution_count": 28,
   "id": "b3dcca3f-520e-499b-acbd-2790c0e1b159",
   "metadata": {},
   "outputs": [],
   "source": [
    "dataset[\"Unique.Visits\"]=dataset[\"Unique.Visits\"].astype(\"float64\")"
   ]
  },
  {
   "cell_type": "code",
   "execution_count": 30,
   "id": "a6cb7644-3c1a-4a42-b8b7-fe989b3a6d99",
   "metadata": {},
   "outputs": [
    {
     "name": "stdout",
     "output_type": "stream",
     "text": [
      "<class 'pandas.core.frame.DataFrame'>\n",
      "RangeIndex: 2167 entries, 0 to 2166\n",
      "Data columns (total 8 columns):\n",
      " #   Column             Non-Null Count  Dtype         \n",
      "---  ------             --------------  -----         \n",
      " 0   Row                2167 non-null   int64         \n",
      " 1   Day                2167 non-null   object        \n",
      " 2   Day.Of.Week        2167 non-null   int64         \n",
      " 3   Date               2167 non-null   datetime64[ns]\n",
      " 4   Page.Loads         2167 non-null   int64         \n",
      " 5   Unique.Visits      2167 non-null   float64       \n",
      " 6   First.Time.Visits  2167 non-null   int64         \n",
      " 7   Returning.Visits   2167 non-null   int64         \n",
      "dtypes: datetime64[ns](1), float64(1), int64(5), object(1)\n",
      "memory usage: 135.6+ KB\n"
     ]
    }
   ],
   "source": [
    "dataset.info()"
   ]
  },
  {
   "cell_type": "code",
   "execution_count": null,
   "id": "d16513a4-377c-4568-9036-72543bef7534",
   "metadata": {},
   "outputs": [],
   "source": []
  }
 ],
 "metadata": {
  "kernelspec": {
   "display_name": "Python 3 (ipykernel)",
   "language": "python",
   "name": "python3"
  },
  "language_info": {
   "codemirror_mode": {
    "name": "ipython",
    "version": 3
   },
   "file_extension": ".py",
   "mimetype": "text/x-python",
   "name": "python",
   "nbconvert_exporter": "python",
   "pygments_lexer": "ipython3",
   "version": "3.12.4"
  }
 },
 "nbformat": 4,
 "nbformat_minor": 5
}
