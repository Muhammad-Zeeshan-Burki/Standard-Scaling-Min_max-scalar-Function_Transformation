{
 "cells": [
  {
   "cell_type": "code",
   "execution_count": 2,
   "id": "856d206f-5dfb-4341-9300-8c85acbaaa38",
   "metadata": {},
   "outputs": [
    {
     "name": "stdout",
     "output_type": "stream",
     "text": [
      "         Day    Month  Month_encoded\n",
      "0     Monday  January              0\n",
      "1    Tuesday  Febuary              1\n",
      "2  Wednesday    March              2\n",
      "3   Thursday   Aprail              3\n",
      "4     Friday      May              4\n"
     ]
    }
   ],
   "source": [
    "import pandas as pd\n",
    "\n",
    "# Sample data\n",
    "data = {\n",
    "    \"Day\": [\"Monday\", \"Tuesday\", \"Wednesday\", \"Thursday\", \"Friday\"],\n",
    "    \"Month\": [\"January\", \"Febuary\", \"March\", \"Aprail\", \"May\"]\n",
    "}\n",
    "\n",
    "# Create DataFrame\n",
    "dataset = pd.DataFrame(data)\n",
    "\n",
    "# Define the mapping dictionary\n",
    "month_mapping = {\n",
    "    \"January\": 0,\n",
    "    \"Febuary\": 1,\n",
    "    \"March\": 2,\n",
    "    \"Aprail\": 3,\n",
    "    \"May\": 4\n",
    "}\n",
    "\n",
    "# Apply the mapping to the 'Month' column\n",
    "dataset['Month_encoded'] = dataset['Month'].map(month_mapping)\n",
    "\n",
    "print(dataset)\n"
   ]
  },
  {
   "cell_type": "code",
   "execution_count": 8,
   "id": "0e6e1e18-e3c9-4aee-bd8f-400257d22bc5",
   "metadata": {},
   "outputs": [
    {
     "name": "stdout",
     "output_type": "stream",
     "text": [
      "       Row  Day  Day.Of.Week       Date  Page.Loads  Unique.Visits  \\\n",
      "0        1  NaN            1 2014-09-14        2146           1582   \n",
      "1        2  0.0            2 2014-09-15        3621           2528   \n",
      "2        3  1.0            3 2014-09-16        3698           2630   \n",
      "3        4  2.0            4 2014-09-17        3667           2614   \n",
      "4        5  3.0            5 2014-09-18        3316           2366   \n",
      "...    ...  ...          ...        ...         ...            ...   \n",
      "2162  2163  NaN            7 2020-08-15        2221           1696   \n",
      "2163  2164  NaN            1 2020-08-16        2724           2037   \n",
      "2164  2165  0.0            2 2020-08-17        3456           2638   \n",
      "2165  2166  1.0            3 2020-08-18        3581           2683   \n",
      "2166  2167  2.0            4 2020-08-19        2064           1564   \n",
      "\n",
      "      First.Time.Visits  Returning.Visits  \n",
      "0                  1430               152  \n",
      "1                  2297               231  \n",
      "2                  2352               278  \n",
      "3                  2327               287  \n",
      "4                  2130               236  \n",
      "...                 ...               ...  \n",
      "2162               1373               323  \n",
      "2163               1686               351  \n",
      "2164               2181               457  \n",
      "2165               2184               499  \n",
      "2166               1297               267  \n",
      "\n",
      "[2167 rows x 8 columns]\n"
     ]
    }
   ],
   "source": [
    "import pandas as pd\n",
    "\n",
    "# Sample data\n",
    "data = pd.read_excel(\"For encoding prac.xlsx\")\n",
    "\n",
    "# Define the mapping dictionary\n",
    "Day_mapping = {\n",
    "    \"Monday\": 0,\n",
    "    \"Tuesday\": 1,\n",
    "    \"Wednesday\": 2,\n",
    "    \"Thursday\": 3,\n",
    "    \"Friday\": 4\n",
    "}\n",
    "\n",
    "# Apply the mapping to the 'Day' column\n",
    "data['Day'] = data['Day'].map(Day_mapping)\n",
    "\n",
    "print(data)\n",
    "\n"
   ]
  },
  {
   "cell_type": "code",
   "execution_count": null,
   "id": "25cb1cce-918d-43ba-83eb-854f20ef25b2",
   "metadata": {},
   "outputs": [],
   "source": []
  }
 ],
 "metadata": {
  "kernelspec": {
   "display_name": "Python 3 (ipykernel)",
   "language": "python",
   "name": "python3"
  },
  "language_info": {
   "codemirror_mode": {
    "name": "ipython",
    "version": 3
   },
   "file_extension": ".py",
   "mimetype": "text/x-python",
   "name": "python",
   "nbconvert_exporter": "python",
   "pygments_lexer": "ipython3",
   "version": "3.12.4"
  }
 },
 "nbformat": 4,
 "nbformat_minor": 5
}
