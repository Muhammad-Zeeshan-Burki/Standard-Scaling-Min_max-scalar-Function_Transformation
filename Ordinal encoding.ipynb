{
 "cells": [
  {
   "cell_type": "code",
   "execution_count": 2,
   "id": "36f01c9f-b51f-43b2-9f85-5ab06ac048be",
   "metadata": {},
   "outputs": [
    {
     "name": "stdout",
     "output_type": "stream",
     "text": [
      "      Month  Month_encoded\n",
      "0   January            2.0\n",
      "1  February            1.0\n",
      "2     March            3.0\n",
      "3     April            0.0\n",
      "4       May            4.0\n"
     ]
    }
   ],
   "source": [
    "import pandas as pd\n",
    "from sklearn.preprocessing import OrdinalEncoder\n",
    "\n",
    "# Define the data\n",
    "data = {\n",
    "    \"Month\": [\"January\", \"February\", \"March\", \"April\", \"May\"]\n",
    "}\n",
    "\n",
    "# Create a DataFrame\n",
    "df = pd.DataFrame(data)\n",
    "\n",
    "# Initialize the OrdinalEncoder\n",
    "encoder = OrdinalEncoder()\n",
    "\n",
    "# Fit and transform the \"Month\" column\n",
    "df['Month_encoded'] = encoder.fit_transform(df[['Month']])\n",
    "\n",
    "# Display the resulting DataFrame\n",
    "print(df)\n"
   ]
  },
  {
   "cell_type": "code",
   "execution_count": null,
   "id": "dd7f6101-db6a-4e01-ae46-c2e01d4be9ba",
   "metadata": {},
   "outputs": [],
   "source": []
  }
 ],
 "metadata": {
  "kernelspec": {
   "display_name": "Python 3 (ipykernel)",
   "language": "python",
   "name": "python3"
  },
  "language_info": {
   "codemirror_mode": {
    "name": "ipython",
    "version": 3
   },
   "file_extension": ".py",
   "mimetype": "text/x-python",
   "name": "python",
   "nbconvert_exporter": "python",
   "pygments_lexer": "ipython3",
   "version": "3.12.4"
  }
 },
 "nbformat": 4,
 "nbformat_minor": 5
}
