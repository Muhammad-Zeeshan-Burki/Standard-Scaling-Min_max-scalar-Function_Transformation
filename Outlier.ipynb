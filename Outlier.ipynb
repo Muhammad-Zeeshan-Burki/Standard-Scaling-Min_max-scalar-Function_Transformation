{
 "cells": [
  {
   "cell_type": "code",
   "execution_count": 2,
   "id": "5f9b3125-8ddc-4cf1-b456-ec72f6c1c25a",
   "metadata": {},
   "outputs": [],
   "source": [
    "import pandas as pd \n",
    "import seaborn as sns \n",
    "import matplotlib.pyplot as plt "
   ]
  },
  {
   "cell_type": "code",
   "execution_count": 6,
   "id": "14bc3cdf-35fd-4c9d-973b-2daee13ef8a4",
   "metadata": {},
   "outputs": [
    {
     "data": {
      "text/html": [
       "<div>\n",
       "<style scoped>\n",
       "    .dataframe tbody tr th:only-of-type {\n",
       "        vertical-align: middle;\n",
       "    }\n",
       "\n",
       "    .dataframe tbody tr th {\n",
       "        vertical-align: top;\n",
       "    }\n",
       "\n",
       "    .dataframe thead th {\n",
       "        text-align: right;\n",
       "    }\n",
       "</style>\n",
       "<table border=\"1\" class=\"dataframe\">\n",
       "  <thead>\n",
       "    <tr style=\"text-align: right;\">\n",
       "      <th></th>\n",
       "      <th>Row</th>\n",
       "      <th>Day</th>\n",
       "      <th>Day.Of.Week</th>\n",
       "      <th>Date</th>\n",
       "      <th>Page.Loads</th>\n",
       "      <th>Unique.Visits</th>\n",
       "      <th>First.Time.Visits</th>\n",
       "      <th>Returning.Visits</th>\n",
       "    </tr>\n",
       "  </thead>\n",
       "  <tbody>\n",
       "    <tr>\n",
       "      <th>0</th>\n",
       "      <td>1</td>\n",
       "      <td>Sunday</td>\n",
       "      <td>1</td>\n",
       "      <td>2014-09-14</td>\n",
       "      <td>2146</td>\n",
       "      <td>1582</td>\n",
       "      <td>1430</td>\n",
       "      <td>152</td>\n",
       "    </tr>\n",
       "    <tr>\n",
       "      <th>1</th>\n",
       "      <td>2</td>\n",
       "      <td>Monday</td>\n",
       "      <td>2</td>\n",
       "      <td>2014-09-15</td>\n",
       "      <td>3621</td>\n",
       "      <td>2528</td>\n",
       "      <td>2297</td>\n",
       "      <td>231</td>\n",
       "    </tr>\n",
       "    <tr>\n",
       "      <th>2</th>\n",
       "      <td>3</td>\n",
       "      <td>Tuesday</td>\n",
       "      <td>3</td>\n",
       "      <td>2014-09-16</td>\n",
       "      <td>3698</td>\n",
       "      <td>2630</td>\n",
       "      <td>2352</td>\n",
       "      <td>278</td>\n",
       "    </tr>\n",
       "  </tbody>\n",
       "</table>\n",
       "</div>"
      ],
      "text/plain": [
       "   Row      Day  Day.Of.Week       Date  Page.Loads  Unique.Visits  \\\n",
       "0    1   Sunday            1 2014-09-14        2146           1582   \n",
       "1    2   Monday            2 2014-09-15        3621           2528   \n",
       "2    3  Tuesday            3 2014-09-16        3698           2630   \n",
       "\n",
       "   First.Time.Visits  Returning.Visits  \n",
       "0               1430               152  \n",
       "1               2297               231  \n",
       "2               2352               278  "
      ]
     },
     "execution_count": 6,
     "metadata": {},
     "output_type": "execute_result"
    }
   ],
   "source": [
    "dataset =pd.read_excel(\"For encoding prac.xlsx\")\n",
    "dataset.head(3)\n"
   ]
  },
  {
   "cell_type": "code",
   "execution_count": 44,
   "id": "b8dc20f8-ba19-442d-bf17-3610be55c2c4",
   "metadata": {},
   "outputs": [
    {
     "data": {
      "text/plain": [
       "(2167, 8)"
      ]
     },
     "execution_count": 44,
     "metadata": {},
     "output_type": "execute_result"
    }
   ],
   "source": [
    "dataset.shape"
   ]
  },
  {
   "cell_type": "code",
   "execution_count": 10,
   "id": "343f1998-b809-4f36-a91c-9dd736a70ec4",
   "metadata": {},
   "outputs": [
    {
     "name": "stdout",
     "output_type": "stream",
     "text": [
      "<class 'pandas.core.frame.DataFrame'>\n",
      "RangeIndex: 2167 entries, 0 to 2166\n",
      "Data columns (total 8 columns):\n",
      " #   Column             Non-Null Count  Dtype         \n",
      "---  ------             --------------  -----         \n",
      " 0   Row                2167 non-null   int64         \n",
      " 1   Day                2167 non-null   object        \n",
      " 2   Day.Of.Week        2167 non-null   int64         \n",
      " 3   Date               2167 non-null   datetime64[ns]\n",
      " 4   Page.Loads         2167 non-null   int64         \n",
      " 5   Unique.Visits      2167 non-null   int64         \n",
      " 6   First.Time.Visits  2167 non-null   int64         \n",
      " 7   Returning.Visits   2167 non-null   int64         \n",
      "dtypes: datetime64[ns](1), int64(6), object(1)\n",
      "memory usage: 135.6+ KB\n"
     ]
    }
   ],
   "source": [
    "dataset.info()"
   ]
  },
  {
   "cell_type": "code",
   "execution_count": 12,
   "id": "eadd5805-f1e4-4e40-a28e-089d3b9d196b",
   "metadata": {},
   "outputs": [
    {
     "data": {
      "text/html": [
       "<div>\n",
       "<style scoped>\n",
       "    .dataframe tbody tr th:only-of-type {\n",
       "        vertical-align: middle;\n",
       "    }\n",
       "\n",
       "    .dataframe tbody tr th {\n",
       "        vertical-align: top;\n",
       "    }\n",
       "\n",
       "    .dataframe thead th {\n",
       "        text-align: right;\n",
       "    }\n",
       "</style>\n",
       "<table border=\"1\" class=\"dataframe\">\n",
       "  <thead>\n",
       "    <tr style=\"text-align: right;\">\n",
       "      <th></th>\n",
       "      <th>Row</th>\n",
       "      <th>Day.Of.Week</th>\n",
       "      <th>Date</th>\n",
       "      <th>Page.Loads</th>\n",
       "      <th>Unique.Visits</th>\n",
       "      <th>First.Time.Visits</th>\n",
       "      <th>Returning.Visits</th>\n",
       "    </tr>\n",
       "  </thead>\n",
       "  <tbody>\n",
       "    <tr>\n",
       "      <th>count</th>\n",
       "      <td>2167.000000</td>\n",
       "      <td>2167.000000</td>\n",
       "      <td>2167</td>\n",
       "      <td>2167.000000</td>\n",
       "      <td>2167.000000</td>\n",
       "      <td>2167.000000</td>\n",
       "      <td>2167.000000</td>\n",
       "    </tr>\n",
       "    <tr>\n",
       "      <th>mean</th>\n",
       "      <td>1084.000000</td>\n",
       "      <td>3.997231</td>\n",
       "      <td>2017-09-01 00:00:00</td>\n",
       "      <td>4116.989386</td>\n",
       "      <td>2943.646516</td>\n",
       "      <td>2431.824181</td>\n",
       "      <td>511.822335</td>\n",
       "    </tr>\n",
       "    <tr>\n",
       "      <th>min</th>\n",
       "      <td>1.000000</td>\n",
       "      <td>1.000000</td>\n",
       "      <td>2014-09-14 00:00:00</td>\n",
       "      <td>1002.000000</td>\n",
       "      <td>667.000000</td>\n",
       "      <td>522.000000</td>\n",
       "      <td>133.000000</td>\n",
       "    </tr>\n",
       "    <tr>\n",
       "      <th>25%</th>\n",
       "      <td>542.500000</td>\n",
       "      <td>2.000000</td>\n",
       "      <td>2016-03-08 12:00:00</td>\n",
       "      <td>3114.500000</td>\n",
       "      <td>2226.000000</td>\n",
       "      <td>1830.000000</td>\n",
       "      <td>388.500000</td>\n",
       "    </tr>\n",
       "    <tr>\n",
       "      <th>50%</th>\n",
       "      <td>1084.000000</td>\n",
       "      <td>4.000000</td>\n",
       "      <td>2017-09-01 00:00:00</td>\n",
       "      <td>4106.000000</td>\n",
       "      <td>2914.000000</td>\n",
       "      <td>2400.000000</td>\n",
       "      <td>509.000000</td>\n",
       "    </tr>\n",
       "    <tr>\n",
       "      <th>75%</th>\n",
       "      <td>1625.500000</td>\n",
       "      <td>6.000000</td>\n",
       "      <td>2019-02-24 12:00:00</td>\n",
       "      <td>5020.500000</td>\n",
       "      <td>3667.500000</td>\n",
       "      <td>3038.000000</td>\n",
       "      <td>626.500000</td>\n",
       "    </tr>\n",
       "    <tr>\n",
       "      <th>max</th>\n",
       "      <td>2167.000000</td>\n",
       "      <td>7.000000</td>\n",
       "      <td>2020-08-19 00:00:00</td>\n",
       "      <td>7984.000000</td>\n",
       "      <td>5541.000000</td>\n",
       "      <td>4616.000000</td>\n",
       "      <td>1036.000000</td>\n",
       "    </tr>\n",
       "    <tr>\n",
       "      <th>std</th>\n",
       "      <td>625.703338</td>\n",
       "      <td>2.000229</td>\n",
       "      <td>NaN</td>\n",
       "      <td>1350.977843</td>\n",
       "      <td>977.886472</td>\n",
       "      <td>828.704688</td>\n",
       "      <td>168.736370</td>\n",
       "    </tr>\n",
       "  </tbody>\n",
       "</table>\n",
       "</div>"
      ],
      "text/plain": [
       "               Row  Day.Of.Week                 Date   Page.Loads  \\\n",
       "count  2167.000000  2167.000000                 2167  2167.000000   \n",
       "mean   1084.000000     3.997231  2017-09-01 00:00:00  4116.989386   \n",
       "min       1.000000     1.000000  2014-09-14 00:00:00  1002.000000   \n",
       "25%     542.500000     2.000000  2016-03-08 12:00:00  3114.500000   \n",
       "50%    1084.000000     4.000000  2017-09-01 00:00:00  4106.000000   \n",
       "75%    1625.500000     6.000000  2019-02-24 12:00:00  5020.500000   \n",
       "max    2167.000000     7.000000  2020-08-19 00:00:00  7984.000000   \n",
       "std     625.703338     2.000229                  NaN  1350.977843   \n",
       "\n",
       "       Unique.Visits  First.Time.Visits  Returning.Visits  \n",
       "count    2167.000000        2167.000000       2167.000000  \n",
       "mean     2943.646516        2431.824181        511.822335  \n",
       "min       667.000000         522.000000        133.000000  \n",
       "25%      2226.000000        1830.000000        388.500000  \n",
       "50%      2914.000000        2400.000000        509.000000  \n",
       "75%      3667.500000        3038.000000        626.500000  \n",
       "max      5541.000000        4616.000000       1036.000000  \n",
       "std       977.886472         828.704688        168.736370  "
      ]
     },
     "execution_count": 12,
     "metadata": {},
     "output_type": "execute_result"
    }
   ],
   "source": [
    "dataset.describe()"
   ]
  },
  {
   "cell_type": "code",
   "execution_count": 36,
   "id": "ea6964a3-509b-4545-a39f-f9642e4a0b65",
   "metadata": {},
   "outputs": [
    {
     "data": {
      "image/png": "[encoded data removed]",
      "text/plain": [
       "<Figure size 1000x500 with 1 Axes>"
      ]
     },
     "metadata": {},
     "output_type": "display_data"
    }
   ],
   "source": [
    "plt.figure(figsize=(10,5))\n",
    "sns.boxplot(x = \"Unique.Visits\" , data=dataset)\n",
    "plt.show()"
   ]
  },
  {
   "cell_type": "code",
   "execution_count": 38,
   "id": "17fefec5-bd23-48d1-8407-3d36e2985cef",
   "metadata": {},
   "outputs": [
    {
     "data": {
      "text/plain": [
       "<Figure size 1000x500 with 0 Axes>"
      ]
     },
     "metadata": {},
     "output_type": "display_data"
    },
    {
     "data": {
      "image/png": "[encoded data removed]",
      "text/plain": [
       "<Figure size 500x500 with 1 Axes>"
      ]
     },
     "metadata": {},
     "output_type": "display_data"
    }
   ],
   "source": [
    "plt.figure(figsize=(10,5))\n",
    "sns.displot(dataset[\"Page.Loads\"])\n",
    "plt.show()\n"
   ]
  },
  {
   "cell_type": "code",
   "execution_count": 18,
   "id": "879e49c5-172c-4b7b-8612-f07442a07ad4",
   "metadata": {},
   "outputs": [
    {
     "data": {
      "text/plain": [
       "(2167, 8)"
      ]
     },
     "execution_count": 18,
     "metadata": {},
     "output_type": "execute_result"
    }
   ],
   "source": [
    "dataset.shape"
   ]
  },
  {
   "cell_type": "code",
   "execution_count": 26,
   "id": "143081e2-5964-4095-b123-8dd8c9c3a222",
   "metadata": {},
   "outputs": [],
   "source": [
    "q1 = dataset[\"Unique.Visits\"].quantile(0.25)\n",
    "q3 = dataset[\"Unique.Visits\"].quantile(0.75)\n"
   ]
  },
  {
   "cell_type": "code",
   "execution_count": 28,
   "id": "cb86426a-9414-4eac-84f4-dc6930ec464e",
   "metadata": {},
   "outputs": [],
   "source": [
    "IQR =q3-q1"
   ]
  },
  {
   "cell_type": "code",
   "execution_count": 30,
   "id": "8f84041f-7671-4337-830d-a05baeb4a44a",
   "metadata": {},
   "outputs": [
    {
     "data": {
      "text/plain": [
       "(63.75, 5829.75)"
      ]
     },
     "execution_count": 30,
     "metadata": {},
     "output_type": "execute_result"
    }
   ],
   "source": [
    "min_range = q1-(1.5*IQR)\n",
    "max_range = q3+(1.5*IQR)\n",
    "min_range,max_range"
   ]
  },
  {
   "cell_type": "code",
   "execution_count": 42,
   "id": "b2f54cab-0463-4d0b-98df-3732098ae82f",
   "metadata": {},
   "outputs": [],
   "source": [
    "new_dataset = dataset[dataset[\"Unique.Visits\"]<=max_range]"
   ]
  },
  {
   "cell_type": "code",
   "execution_count": 46,
   "id": "7fada571-2e94-4781-9e07-eb1fc94f528b",
   "metadata": {},
   "outputs": [
    {
     "data": {
      "text/plain": [
       "(2167, 8)"
      ]
     },
     "execution_count": 46,
     "metadata": {},
     "output_type": "execute_result"
    }
   ],
   "source": [
    "new_dataset.shape"
   ]
  },
  {
   "cell_type": "code",
   "execution_count": null,
   "id": "e0c67056-c03f-4b4a-829f-413e7e07a30f",
   "metadata": {},
   "outputs": [],
   "source": []
  }
 ],
 "metadata": {
  "kernelspec": {
   "display_name": "Python 3 (ipykernel)",
   "language": "python",
   "name": "python3"
  },
  "language_info": {
   "codemirror_mode": {
    "name": "ipython",
    "version": 3
   },
   "file_extension": ".py",
   "mimetype": "text/x-python",
   "name": "python",
   "nbconvert_exporter": "python",
   "pygments_lexer": "ipython3",
   "version": "3.12.4"
  }
 },
 "nbformat": 4,
 "nbformat_minor": 5
}
